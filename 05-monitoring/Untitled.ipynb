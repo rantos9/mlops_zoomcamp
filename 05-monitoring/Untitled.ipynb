{
 "cells": [
  {
   "cell_type": "code",
   "execution_count": 22,
   "id": "bb7f1095-7eca-4a44-a960-3a8ef56267e7",
   "metadata": {
    "execution": {
     "iopub.execute_input": "2024-06-24T22:49:06.619487Z",
     "iopub.status.busy": "2024-06-24T22:49:06.619145Z",
     "iopub.status.idle": "2024-06-24T22:49:06.646213Z",
     "shell.execute_reply": "2024-06-24T22:49:06.645701Z",
     "shell.execute_reply.started": "2024-06-24T22:49:06.619472Z"
    }
   },
   "outputs": [],
   "source": [
    "import datetime\n",
    "import time\n",
    "import random\n",
    "import logging \n",
    "import uuid\n",
    "import pytz\n",
    "import pandas as pd\n",
    "import io\n",
    "import psycopg\n",
    "import joblib\n",
    "\n",
    "from prefect import task, flow\n",
    "\n",
    "from evidently.report import Report\n",
    "from evidently import ColumnMapping\n",
    "from evidently.metrics import ColumnDriftMetric, DatasetDriftMetric, DatasetMissingValuesMetric, ColumnQuantileMetric, ColumnDistributionMetric\n",
    "\n",
    "logging.basicConfig(level=logging.INFO, format=\"%(asctime)s [%(levelname)s]: %(message)s\")\n",
    "\n",
    "SEND_TIMEOUT = 10\n",
    "rand = random.Random()\n",
    "\n",
    "create_table_statement = \"\"\"\n",
    "drop table if exists dummy_metrics;\n",
    "create table dummy_metrics(\n",
    "\ttimestamp timestamp,\n",
    "\tprediction_drift float,\n",
    "\tnum_drifted_columns integer,\n",
    "\tshare_missing_values float\n",
    ")\n",
    "\"\"\"\n",
    "\n",
    "reference_data = pd.read_parquet('data/reference.parquet')\n",
    "with open('models/lin_reg.bin', 'rb') as f_in:\n",
    "\tmodel = joblib.load(f_in)\n",
    "\n",
    "raw_data = pd.read_parquet('data/green_tripdata_2022-02.parquet')\n",
    "\n",
    "begin = datetime.datetime(2022, 2, 1, 0, 0)\n",
    "num_features = ['passenger_count', 'trip_distance', 'fare_amount', 'total_amount']\n",
    "cat_features = ['PULocationID', 'DOLocationID']\n",
    "column_mapping = ColumnMapping(\n",
    "    prediction='prediction',\n",
    "    numerical_features=num_features,\n",
    "    categorical_features=cat_features,\n",
    "    target=None\n",
    ")\n",
    "\n",
    "report = Report(metrics = [\n",
    "    ColumnDriftMetric(column_name='prediction'),\n",
    "    DatasetDriftMetric(),\n",
    "    DatasetMissingValuesMetric(),\n",
    "\tColumnQuantileMetric(column_name='fare_amount', quantile=0.5),\n",
    "    ColumnDistributionMetric(column_name='trip_distance'),\n",
    "])"
   ]
  },
  {
   "cell_type": "code",
   "execution_count": 23,
   "id": "6b1a0918-6736-4a3e-90ce-b7a288a4f9d7",
   "metadata": {
    "execution": {
     "iopub.execute_input": "2024-06-24T22:49:09.619280Z",
     "iopub.status.busy": "2024-06-24T22:49:09.618734Z",
     "iopub.status.idle": "2024-06-24T22:49:09.622969Z",
     "shell.execute_reply": "2024-06-24T22:49:09.622348Z",
     "shell.execute_reply.started": "2024-06-24T22:49:09.619264Z"
    }
   },
   "outputs": [],
   "source": [
    "@task\n",
    "def prep_db():\n",
    "\twith psycopg.connect(\"host=localhost port=5432 user=postgres password=example\", autocommit=True) as conn:\n",
    "\t\tres = conn.execute(\"SELECT 1 FROM pg_database WHERE datname='test'\")\n",
    "\t\tif len(res.fetchall()) == 0:\n",
    "\t\t\tconn.execute(\"create database test;\")\n",
    "\t\twith psycopg.connect(\"host=localhost port=5432 dbname=test user=postgres password=example\") as conn:\n",
    "\t\t\tconn.execute(create_table_statement)"
   ]
  },
  {
   "cell_type": "code",
   "execution_count": 29,
   "id": "6a0479f8-d62c-4707-a6c7-5463a5c59112",
   "metadata": {
    "execution": {
     "iopub.execute_input": "2024-06-24T22:50:27.484647Z",
     "iopub.status.busy": "2024-06-24T22:50:27.484038Z",
     "iopub.status.idle": "2024-06-24T22:50:27.488421Z",
     "shell.execute_reply": "2024-06-24T22:50:27.487878Z",
     "shell.execute_reply.started": "2024-06-24T22:50:27.484630Z"
    }
   },
   "outputs": [],
   "source": [
    "@task\n",
    "# def calculate_metrics_postgresql(curr, i):\n",
    "def calculate_metrics_postgresql():\n",
    "    current_data = raw_data[(raw_data.lpep_pickup_datetime >= (begin + datetime.timedelta(i))) &\n",
    "\t\t(raw_data.lpep_pickup_datetime < (begin + datetime.timedelta(i + 1)))]\n",
    "\n",
    "\t#current_data.fillna(0, inplace=True)\n",
    "    current_data['prediction'] = model.predict(current_data[num_features + cat_features].fillna(0))\n",
    "\n",
    "    report.run(reference_data = reference_data, current_data = current_data,\n",
    "\t\tcolumn_mapping=column_mapping)\n",
    "    \n",
    "    result = report.as_dict()\n",
    "    return result\n",
    "\n",
    "    prediction_drift = result['metrics'][0]['result']['drift_score']\n",
    "    num_drifted_columns = result['metrics'][1]['result']['number_of_drifted_columns']\n",
    "    share_missing_values = result['metrics'][2]['result']['current']['share_of_missing_values']\n",
    "\n",
    " #    curr.execute(\n",
    "\t# \t\"insert into dummy_metrics(timestamp, prediction_drift, num_drifted_columns, share_missing_values) values (%s, %s, %s, %s)\",\n",
    "\t# \t(begin + datetime.timedelta(i), prediction_drift, num_drifted_columns, share_missing_values)\n",
    "\t# )"
   ]
  },
  {
   "cell_type": "code",
   "execution_count": 27,
   "id": "08cee548-0b7b-4a16-ac66-15e1eacc7b7e",
   "metadata": {
    "execution": {
     "iopub.execute_input": "2024-06-24T22:49:25.811608Z",
     "iopub.status.busy": "2024-06-24T22:49:25.811315Z",
     "iopub.status.idle": "2024-06-24T22:49:25.817812Z",
     "shell.execute_reply": "2024-06-24T22:49:25.817265Z",
     "shell.execute_reply.started": "2024-06-24T22:49:25.811597Z"
    }
   },
   "outputs": [],
   "source": [
    "@flow\n",
    "def batch_monitoring_backfill():\n",
    "\tprep_db()\n",
    "\tlast_send = datetime.datetime.now() - datetime.timedelta(seconds=10)\n",
    "\twith psycopg.connect(\"host=localhost port=5432 dbname=test user=postgres password=example\", autocommit=True) as conn:\n",
    "\t\tfor i in range(0, 27):\n",
    "\t\t\twith conn.cursor() as curr:\n",
    "\t\t\t\tcalculate_metrics_postgresql(curr, i)\n",
    "\n",
    "\t\t\tnew_send = datetime.datetime.now()\n",
    "\t\t\tseconds_elapsed = (new_send - last_send).total_seconds()\n",
    "\t\t\tif seconds_elapsed < SEND_TIMEOUT:\n",
    "\t\t\t\ttime.sleep(SEND_TIMEOUT - seconds_elapsed)\n",
    "\t\t\twhile last_send < new_send:\n",
    "\t\t\t\tlast_send = last_send + datetime.timedelta(seconds=10)\n",
    "\t\t\tlogging.info(\"data sent\")"
   ]
  },
  {
   "cell_type": "code",
   "execution_count": 34,
   "id": "a2e339a0-02f7-4e4e-bd2a-95f50254d679",
   "metadata": {
    "execution": {
     "iopub.execute_input": "2024-06-24T22:51:28.019104Z",
     "iopub.status.busy": "2024-06-24T22:51:28.018698Z",
     "iopub.status.idle": "2024-06-24T22:51:28.022495Z",
     "shell.execute_reply": "2024-06-24T22:51:28.021958Z",
     "shell.execute_reply.started": "2024-06-24T22:51:28.019085Z"
    }
   },
   "outputs": [],
   "source": [
    "result = calculate_metrics_postgresql()"
   ]
  },
  {
   "cell_type": "code",
   "execution_count": 35,
   "id": "54ced8dc-c232-4c88-855a-1f3073b35b55",
   "metadata": {
    "execution": {
     "iopub.execute_input": "2024-06-24T22:51:28.665682Z",
     "iopub.status.busy": "2024-06-24T22:51:28.665120Z",
     "iopub.status.idle": "2024-06-24T22:51:28.669455Z",
     "shell.execute_reply": "2024-06-24T22:51:28.668845Z",
     "shell.execute_reply.started": "2024-06-24T22:51:28.665666Z"
    }
   },
   "outputs": [
    {
     "data": {
      "text/plain": [
       "<coroutine object submit_autonomous_task_run_to_engine at 0x7fc54c8b4f40>"
      ]
     },
     "execution_count": 35,
     "metadata": {},
     "output_type": "execute_result"
    }
   ],
   "source": [
    "result"
   ]
  },
  {
   "cell_type": "code",
   "execution_count": null,
   "id": "f9dced74-0d46-4aa2-9f7c-96976a22494e",
   "metadata": {},
   "outputs": [],
   "source": []
  },
  {
   "cell_type": "code",
   "execution_count": 2,
   "id": "5c74747a-6a5a-4b01-8231-f73381fc2b79",
   "metadata": {
    "execution": {
     "iopub.execute_input": "2024-06-24T22:46:37.638015Z",
     "iopub.status.busy": "2024-06-24T22:46:37.637612Z",
     "iopub.status.idle": "2024-06-24T22:46:37.640342Z",
     "shell.execute_reply": "2024-06-24T22:46:37.639790Z",
     "shell.execute_reply.started": "2024-06-24T22:46:37.638001Z"
    }
   },
   "outputs": [],
   "source": [
    "# if __name__ == '__main__':\n",
    "# \tbatch_monitoring_backfill()"
   ]
  },
  {
   "cell_type": "code",
   "execution_count": null,
   "id": "617ca002-2899-44aa-81fe-60eb24c4c193",
   "metadata": {},
   "outputs": [],
   "source": []
  }
 ],
 "metadata": {
  "kernelspec": {
   "display_name": "Python 3 (ipykernel)",
   "language": "python",
   "name": "python3"
  },
  "language_info": {
   "codemirror_mode": {
    "name": "ipython",
    "version": 3
   },
   "file_extension": ".py",
   "mimetype": "text/x-python",
   "name": "python",
   "nbconvert_exporter": "python",
   "pygments_lexer": "ipython3",
   "version": "3.11.9"
  }
 },
 "nbformat": 4,
 "nbformat_minor": 5
}
